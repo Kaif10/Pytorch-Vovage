{
  "nbformat": 4,
  "nbformat_minor": 0,
  "metadata": {
    "colab": {
      "name": "Pytorch-Basics.ipynb",
      "provenance": [],
      "authorship_tag": "ABX9TyM63+gLFQRxLCWFerIV8knT",
      "include_colab_link": true
    },
    "kernelspec": {
      "name": "python3",
      "display_name": "Python 3"
    }
  },
  "cells": [
    {
      "cell_type": "markdown",
      "metadata": {
        "id": "view-in-github",
        "colab_type": "text"
      },
      "source": [
        "<a href=\"https://colab.research.google.com/github/Kaif10/Getting-started-with-Pytorch/blob/main/Pytorch_Basics.ipynb\" target=\"_parent\"><img src=\"https://colab.research.google.com/assets/colab-badge.svg\" alt=\"Open In Colab\"/></a>"
      ]
    },
    {
      "cell_type": "markdown",
      "metadata": {
        "id": "mwRzLZsDSide"
      },
      "source": [
        "\r\n",
        "## Getting started with basics of PyTorch"
      ]
    },
    {
      "cell_type": "code",
      "metadata": {
        "id": "q2qwtxAj9ZsL"
      },
      "source": [
        "# importing libraries\r\n",
        "import numpy as np\r\n",
        "import torch"
      ],
      "execution_count": 45,
      "outputs": []
    },
    {
      "cell_type": "code",
      "metadata": {
        "colab": {
          "base_uri": "https://localhost:8080/"
        },
        "id": "lbpNEocf-dLH",
        "outputId": "28878c87-0ec2-4fce-897f-4d830b354bdd"
      },
      "source": [
        "# initializing a numpy array\r\n",
        "a = np.array(1)\r\n",
        "\r\n",
        "# initializing a tensor (will create a tensor)\r\n",
        "b = torch.tensor(1)\r\n",
        "\r\n",
        "print(a)\r\n",
        "print(b)"
      ],
      "execution_count": 46,
      "outputs": [
        {
          "output_type": "stream",
          "text": [
            "1\n",
            "tensor(1)\n"
          ],
          "name": "stdout"
        }
      ]
    },
    {
      "cell_type": "code",
      "metadata": {
        "colab": {
          "base_uri": "https://localhost:8080/"
        },
        "id": "AyFOOyA3-dTu",
        "outputId": "3678afad-c3f2-4d36-912c-d08cf12b9605"
      },
      "source": [
        "type(a), type(b) #numpy array and tensor"
      ],
      "execution_count": 27,
      "outputs": [
        {
          "output_type": "execute_result",
          "data": {
            "text/plain": [
              "(numpy.ndarray, torch.Tensor)"
            ]
          },
          "metadata": {
            "tags": []
          },
          "execution_count": 27
        }
      ]
    },
    {
      "cell_type": "markdown",
      "metadata": {
        "id": "9YdT1EOzTM29"
      },
      "source": [
        "### Basic operations in numpy"
      ]
    },
    {
      "cell_type": "code",
      "metadata": {
        "colab": {
          "base_uri": "https://localhost:8080/"
        },
        "id": "xSWhzTkB-dZ9",
        "outputId": "c1ff6360-12d6-4311-af15-e919fae51134"
      },
      "source": [
        "# initializing two arrays\r\n",
        "a = np.array(2)\r\n",
        "b = np.array(1)\r\n",
        "\r\n",
        "# addition\r\n",
        "print(a+b)\r\n",
        "\r\n",
        "# subtraction\r\n",
        "print(b-a)\r\n",
        "\r\n",
        "# multiplication\r\n",
        "print(a*b)\r\n",
        "\r\n",
        "# division\r\n",
        "print(a/b)"
      ],
      "execution_count": 28,
      "outputs": [
        {
          "output_type": "stream",
          "text": [
            "3\n",
            "-1\n",
            "2\n",
            "2.0\n"
          ],
          "name": "stdout"
        }
      ]
    },
    {
      "cell_type": "markdown",
      "metadata": {
        "id": "nDOM4UOCTWNB"
      },
      "source": [
        "### Basic operations in PyTorch"
      ]
    },
    {
      "cell_type": "code",
      "metadata": {
        "colab": {
          "base_uri": "https://localhost:8080/"
        },
        "id": "ahAYuS_q-deP",
        "outputId": "1e910b36-828f-498f-c2e9-67b1b1e803df"
      },
      "source": [
        "# initializing two tensors\r\n",
        "a = torch.tensor(2)\r\n",
        "b = torch.tensor(1)\r\n",
        "print(a,b)\r\n",
        "\r\n",
        "# addition\r\n",
        "print(a+b)\r\n",
        "\r\n",
        "# subtraction\r\n",
        "print(b-a)\r\n",
        "\r\n",
        "# multiplication\r\n",
        "print(a*b)\r\n",
        "\r\n",
        "# division\r\n",
        "print(a/b)"
      ],
      "execution_count": 29,
      "outputs": [
        {
          "output_type": "stream",
          "text": [
            "tensor(2) tensor(1)\n",
            "tensor(3)\n",
            "tensor(-1)\n",
            "tensor(2)\n",
            "tensor(2.)\n"
          ],
          "name": "stdout"
        }
      ]
    },
    {
      "cell_type": "markdown",
      "metadata": {
        "id": "ThMAtDPmTeG0"
      },
      "source": [
        "### Matrix initialization"
      ]
    },
    {
      "cell_type": "markdown",
      "metadata": {
        "id": "gAmfDSn5TdzR"
      },
      "source": [
        "."
      ]
    },
    {
      "cell_type": "code",
      "metadata": {
        "colab": {
          "base_uri": "https://localhost:8080/"
        },
        "id": "9DQpjNMM-dhr",
        "outputId": "0b6003a6-50f9-4d24-f682-91ed011bae4f"
      },
      "source": [
        "# matrix of zeros\r\n",
        "a = np.zeros((3,3))\r\n",
        "print(a)\r\n",
        "print(a.shape)\r\n"
      ],
      "execution_count": 30,
      "outputs": [
        {
          "output_type": "stream",
          "text": [
            "[[0. 0. 0.]\n",
            " [0. 0. 0.]\n",
            " [0. 0. 0.]]\n",
            "(3, 3)\n"
          ],
          "name": "stdout"
        }
      ]
    },
    {
      "cell_type": "code",
      "metadata": {
        "colab": {
          "base_uri": "https://localhost:8080/"
        },
        "id": "ya05_aob-dkZ",
        "outputId": "b195d3d4-f266-4395-e97e-bd4a43a0ba55"
      },
      "source": [
        "# matrix of zeros\r\n",
        "a = torch.zeros((3,3))\r\n",
        "print(a)\r\n",
        "print(a.shape)"
      ],
      "execution_count": 31,
      "outputs": [
        {
          "output_type": "stream",
          "text": [
            "tensor([[0., 0., 0.],\n",
            "        [0., 0., 0.],\n",
            "        [0., 0., 0.]])\n",
            "torch.Size([3, 3])\n"
          ],
          "name": "stdout"
        }
      ]
    },
    {
      "cell_type": "code",
      "metadata": {
        "colab": {
          "base_uri": "https://localhost:8080/"
        },
        "id": "_wxd3tXt-dmG",
        "outputId": "f57f1552-94fe-47e7-887d-d37bc6734cfa"
      },
      "source": [
        "# setting the random seed for pytorch\r\n",
        "torch.manual_seed(42)\r\n",
        "\r\n",
        "# matrix of random numbers\r\n",
        "a = torch.randn(3,3)\r\n",
        "a"
      ],
      "execution_count": 32,
      "outputs": [
        {
          "output_type": "execute_result",
          "data": {
            "text/plain": [
              "tensor([[ 0.3367,  0.1288,  0.2345],\n",
              "        [ 0.2303, -1.1229, -0.1863],\n",
              "        [ 2.2082, -0.6380,  0.4617]])"
            ]
          },
          "metadata": {
            "tags": []
          },
          "execution_count": 32
        }
      ]
    },
    {
      "cell_type": "markdown",
      "metadata": {
        "id": "J4K4eiWRW1_R"
      },
      "source": [
        "### Matrix Operations"
      ]
    },
    {
      "cell_type": "code",
      "metadata": {
        "colab": {
          "base_uri": "https://localhost:8080/"
        },
        "id": "apKE5MCv-dn9",
        "outputId": "fcf8e930-54c3-4b90-a45e-c5e36b18a52f"
      },
      "source": [
        "# setting the random seed for pytorch and initializing two tensors\r\n",
        "torch.manual_seed(42)\r\n",
        "a = torch.randn(3,3)\r\n",
        "b = torch.randn(3,3)\r\n",
        "\r\n",
        "# matrix addition\r\n",
        "print(torch.add(a,b), '\\n')\r\n",
        "\r\n",
        "# matrix subtraction\r\n",
        "print(torch.sub(a,b), '\\n')\r\n",
        "\r\n",
        "# matrix multiplication\r\n",
        "print(torch.mm(a,b), '\\n')\r\n",
        "\r\n",
        "# matrix division\r\n",
        "print(torch.div(a,b))"
      ],
      "execution_count": 33,
      "outputs": [
        {
          "output_type": "stream",
          "text": [
            "tensor([[ 0.6040,  0.6637,  1.0438],\n",
            "        [ 1.3406, -2.8127, -1.1753],\n",
            "        [ 3.1662,  0.6841,  1.2788]]) \n",
            "\n",
            "tensor([[ 0.0693, -0.4061, -0.5749],\n",
            "        [-0.8800,  0.5669,  0.8026],\n",
            "        [ 1.2502, -1.9601, -0.3555]]) \n",
            "\n",
            "tensor([[ 0.4576,  0.2724,  0.3367],\n",
            "        [-1.3636,  1.7743,  1.1446],\n",
            "        [ 0.3243,  2.8696,  2.7954]]) \n",
            "\n",
            "tensor([[ 1.2594,  0.2408,  0.2897],\n",
            "        [ 0.2075,  0.6645,  0.1884],\n",
            "        [ 2.3051, -0.4826,  0.5649]])\n"
          ],
          "name": "stdout"
        }
      ]
    },
    {
      "cell_type": "markdown",
      "metadata": {
        "id": "5GDgekdISeF9"
      },
      "source": [
        "### Transpose of Matrix"
      ]
    },
    {
      "cell_type": "code",
      "metadata": {
        "colab": {
          "base_uri": "https://localhost:8080/"
        },
        "id": "UGs2gFmp-dpi",
        "outputId": "2bcf135b-cc3e-42b2-83e3-0994aa7a549d"
      },
      "source": [
        "# original matrix\r\n",
        "print(a, '\\n')\r\n",
        "\r\n",
        "# matrix transpose\r\n",
        "torch.t(a)"
      ],
      "execution_count": 34,
      "outputs": [
        {
          "output_type": "stream",
          "text": [
            "tensor([[ 0.3367,  0.1288,  0.2345],\n",
            "        [ 0.2303, -1.1229, -0.1863],\n",
            "        [ 2.2082, -0.6380,  0.4617]]) \n",
            "\n"
          ],
          "name": "stdout"
        },
        {
          "output_type": "execute_result",
          "data": {
            "text/plain": [
              "tensor([[ 0.3367,  0.2303,  2.2082],\n",
              "        [ 0.1288, -1.1229, -0.6380],\n",
              "        [ 0.2345, -0.1863,  0.4617]])"
            ]
          },
          "metadata": {
            "tags": []
          },
          "execution_count": 34
        }
      ]
    },
    {
      "cell_type": "markdown",
      "metadata": {
        "id": "IzI9aDIkYgit"
      },
      "source": [
        "### Concat Tensors"
      ]
    },
    {
      "cell_type": "code",
      "metadata": {
        "colab": {
          "base_uri": "https://localhost:8080/"
        },
        "id": "2jNJQyFP-eIh",
        "outputId": "15aa7b37-ac25-4622-8dfc-0b53e2e6a057"
      },
      "source": [
        "a = torch.tensor([[1,2],[3,4]])\r\n",
        "b = torch.tensor([[5,6],[7,8]])\r\n",
        "print(a, '\\n')\r\n",
        "print(b)\r\n",
        "\r\n",
        "\r\n",
        "# concatenating vertically\r\n",
        "torch.cat((a,b))\r\n"
      ],
      "execution_count": 35,
      "outputs": [
        {
          "output_type": "stream",
          "text": [
            "tensor([[1, 2],\n",
            "        [3, 4]]) \n",
            "\n",
            "tensor([[5, 6],\n",
            "        [7, 8]])\n"
          ],
          "name": "stdout"
        },
        {
          "output_type": "execute_result",
          "data": {
            "text/plain": [
              "tensor([[1, 2],\n",
              "        [3, 4],\n",
              "        [5, 6],\n",
              "        [7, 8]])"
            ]
          },
          "metadata": {
            "tags": []
          },
          "execution_count": 35
        }
      ]
    },
    {
      "cell_type": "code",
      "metadata": {
        "colab": {
          "base_uri": "https://localhost:8080/"
        },
        "id": "uOV3qg0a-eNQ",
        "outputId": "ff0d6fca-9e40-40e5-fd7d-e35e2ddfd616"
      },
      "source": [
        "# concatenating horizontally\r\n",
        "torch.cat((a,b),dim=1)"
      ],
      "execution_count": 36,
      "outputs": [
        {
          "output_type": "execute_result",
          "data": {
            "text/plain": [
              "tensor([[1, 2, 5, 6],\n",
              "        [3, 4, 7, 8]])"
            ]
          },
          "metadata": {
            "tags": []
          },
          "execution_count": 36
        }
      ]
    },
    {
      "cell_type": "code",
      "metadata": {
        "colab": {
          "base_uri": "https://localhost:8080/"
        },
        "id": "g3xmDpt9-eRU",
        "outputId": "c9dd2abb-9e0f-44c8-f244-453414cd50b8"
      },
      "source": [
        "# setting the random seed for pytorch\r\n",
        "torch.manual_seed(42)\r\n",
        "# initializing tensor\r\n",
        "a = torch.randn(2,4)\r\n",
        "print(a)\r\n",
        "a.shape\r\n",
        "\r\n"
      ],
      "execution_count": 37,
      "outputs": [
        {
          "output_type": "stream",
          "text": [
            "tensor([[ 0.3367,  0.1288,  0.2345,  0.2303],\n",
            "        [-1.1229, -0.1863,  2.2082, -0.6380]])\n"
          ],
          "name": "stdout"
        },
        {
          "output_type": "execute_result",
          "data": {
            "text/plain": [
              "torch.Size([2, 4])"
            ]
          },
          "metadata": {
            "tags": []
          },
          "execution_count": 37
        }
      ]
    },
    {
      "cell_type": "code",
      "metadata": {
        "colab": {
          "base_uri": "https://localhost:8080/"
        },
        "id": "KdEQldot-eTl",
        "outputId": "21e7d8cc-c7fa-499f-b4e6-39f00fdd833b"
      },
      "source": [
        "# reshaping tensor\r\n",
        "b = a.reshape(1,8)\r\n",
        "print(b)\r\n",
        "b.shape"
      ],
      "execution_count": 38,
      "outputs": [
        {
          "output_type": "stream",
          "text": [
            "tensor([[ 0.3367,  0.1288,  0.2345,  0.2303, -1.1229, -0.1863,  2.2082, -0.6380]])\n"
          ],
          "name": "stdout"
        },
        {
          "output_type": "execute_result",
          "data": {
            "text/plain": [
              "torch.Size([1, 8])"
            ]
          },
          "metadata": {
            "tags": []
          },
          "execution_count": 38
        }
      ]
    },
    {
      "cell_type": "code",
      "metadata": {
        "colab": {
          "base_uri": "https://localhost:8080/"
        },
        "id": "hBV3Wq55-eWh",
        "outputId": "6e7649e6-8e62-4b3b-d242-9415af4f4850"
      },
      "source": [
        "# initializing a numpy array\r\n",
        "a = np.array([[1,2],[3,4]])\r\n",
        "print(a, '\\n')\r\n",
        "\r\n",
        "# converting the numpy array to tensor\r\n",
        "tensor = torch.from_numpy(a)\r\n",
        "print(tensor)\r\n"
      ],
      "execution_count": 39,
      "outputs": [
        {
          "output_type": "stream",
          "text": [
            "[[1 2]\n",
            " [3 4]] \n",
            "\n",
            "tensor([[1, 2],\n",
            "        [3, 4]])\n"
          ],
          "name": "stdout"
        }
      ]
    },
    {
      "cell_type": "markdown",
      "metadata": {
        "id": "3n53S6arc8XF"
      },
      "source": [
        "."
      ]
    },
    {
      "cell_type": "markdown",
      "metadata": {
        "id": "snkl3Druc8Q4"
      },
      "source": [
        "Autograd Module\r\n",
        "PyTorch uses a technique called automatic differentiation. It records all the operations that we are performing and replays it backward to compute gradients. This technique helps us to save time on each epoch as we are calculating the gradients on the forward pass itself.\r\n",
        "\r\n",
        "Let’s look at an example to understand how the gradients are computed:"
      ]
    },
    {
      "cell_type": "code",
      "metadata": {
        "colab": {
          "base_uri": "https://localhost:8080/"
        },
        "id": "JIJ58G8GT4Ab",
        "outputId": "8c5b54c6-96c5-44fe-fb55-8085f6b3c8ee"
      },
      "source": [
        "# initializing a tensor\r\n",
        "a = torch.ones((2,2), requires_grad=True)\r\n",
        "print(a)\r\n",
        "\r\n",
        "#Here, we have initialized a tensor. \r\n",
        "#Specifying requires_grad as True will make sure that the gradients are stored for this particular tensor whenever we perform some operation on it. \r\n",
        "#Let’s now perform some operations on the defined tensor:\r\n",
        "\r\n",
        "# performing operations on the tensor\r\n",
        "b = a + 5\r\n",
        "c = b.mean()\r\n",
        "print(b,c)"
      ],
      "execution_count": 48,
      "outputs": [
        {
          "output_type": "stream",
          "text": [
            "tensor([[1., 1.],\n",
            "        [1., 1.]], requires_grad=True)\n",
            "tensor([[6., 6.],\n",
            "        [6., 6.]], grad_fn=<AddBackward0>) tensor(6., grad_fn=<MeanBackward0>)\n"
          ],
          "name": "stdout"
        }
      ]
    },
    {
      "cell_type": "markdown",
      "metadata": {
        "id": "tmqccbdsd69s"
      },
      "source": [
        "."
      ]
    },
    {
      "cell_type": "markdown",
      "metadata": {
        "id": "4XH7AMSEd4Bv"
      },
      "source": [
        "### First of all, we added 5 to all the elements of this tensor and then taken the mean of that tensor. We will first manually calculate the gradients and then verify that using PyTorch. We performed the following operations on a:\r\n",
        "\r\n",
        "b = a + 5\r\n",
        "\r\n",
        "c = mean(b) = Σ(a+5) / 4\r\n",
        "\r\n",
        "Now, the derivative of c w.r.t. a will be ¼ and hence the gradient matrix will be 0.25. Let’s verify this using PyTorch:"
      ]
    },
    {
      "cell_type": "code",
      "metadata": {
        "colab": {
          "base_uri": "https://localhost:8080/"
        },
        "id": "brmIttMsT4Lq",
        "outputId": "eda3247f-6dd2-462e-d772-5e74d6a8546f"
      },
      "source": [
        "# back propagating\r\n",
        "c.backward()\r\n",
        "\r\n",
        "# computing gradients\r\n",
        "print(a.grad)"
      ],
      "execution_count": 49,
      "outputs": [
        {
          "output_type": "stream",
          "text": [
            "tensor([[0.2500, 0.2500],\n",
            "        [0.2500, 0.2500]])\n"
          ],
          "name": "stdout"
        }
      ]
    },
    {
      "cell_type": "markdown",
      "metadata": {
        "id": "vYFdtkg_HcmX"
      },
      "source": [
        ""
      ]
    },
    {
      "cell_type": "markdown",
      "metadata": {
        "id": "KbPPfEJQd-nR"
      },
      "source": [
        "### Various optimizers you can use for optimizing your neural network.\r\n",
        "### Below examles are Adam and SGD"
      ]
    },
    {
      "cell_type": "code",
      "metadata": {
        "id": "OCUBilB8I0DL"
      },
      "source": [
        "# importing the optim module\r\n",
        "from torch import optim\r\n",
        "\r\n",
        "# adam\r\n",
        "## adam = optim.Adam(model.parameters(), lr=learning_rate)\r\n",
        "\r\n",
        "# sgd\r\n",
        "## SGD = optim.SGD(model.parameters(), lr=learning_rate)"
      ],
      "execution_count": 44,
      "outputs": []
    }
  ]
}