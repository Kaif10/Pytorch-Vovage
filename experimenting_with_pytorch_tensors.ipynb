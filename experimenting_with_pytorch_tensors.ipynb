{
  "nbformat": 4,
  "nbformat_minor": 0,
  "metadata": {
    "colab": {
      "name": "experimenting with pytorch tensors.ipynb",
      "provenance": []
    },
    "kernelspec": {
      "name": "python3",
      "display_name": "Python 3"
    },
    "language_info": {
      "name": "python"
    }
  },
  "cells": [
    {
      "cell_type": "code",
      "execution_count": 27,
      "metadata": {
        "id": "NYfwM8qOmpPu"
      },
      "outputs": [],
      "source": [
        "import torch\n",
        "import math\n"
      ]
    },
    {
      "cell_type": "code",
      "source": [
        "#empty\n",
        "x = torch.empty(3, 4)\n",
        "print(type(x))\n",
        "print(x)"
      ],
      "metadata": {
        "colab": {
          "base_uri": "https://localhost:8080/"
        },
        "id": "FJBz-E6BGN4L",
        "outputId": "0b20ebe2-4f32-4013-fb76-a7a2e4ebffd1"
      },
      "execution_count": 28,
      "outputs": [
        {
          "output_type": "stream",
          "name": "stdout",
          "text": [
            "<class 'torch.Tensor'>\n",
            "tensor([[-9.2018e+04,  3.0852e-41,  1.5975e-43,  1.3873e-43],\n",
            "        [ 1.4574e-43,  6.4460e-44,  1.3873e-43,  1.5975e-43],\n",
            "        [ 1.5554e-43,  1.6115e-43,  1.6115e-43,  0.0000e+00]])\n"
          ]
        }
      ]
    },
    {
      "cell_type": "code",
      "source": [
        "#ones and random\n",
        "\n",
        "ones = torch.ones(2, 3)\n",
        "print(ones)\n",
        "\n",
        "torch.manual_seed(1729)\n",
        "random = torch.rand(2, 3)\n",
        "print(random)"
      ],
      "metadata": {
        "colab": {
          "base_uri": "https://localhost:8080/"
        },
        "id": "8xy-jDlPmtXf",
        "outputId": "a52a77e6-7609-4a78-e249-84ebe2e0e644"
      },
      "execution_count": 29,
      "outputs": [
        {
          "output_type": "stream",
          "name": "stdout",
          "text": [
            "tensor([[1., 1., 1.],\n",
            "        [1., 1., 1.]])\n",
            "tensor([[0.3126, 0.3791, 0.3087],\n",
            "        [0.0736, 0.4216, 0.0691]])\n"
          ]
        }
      ]
    },
    {
      "cell_type": "code",
      "source": [
        "# yield different tensors when needed like this\n",
        "torch.manual_seed(11)\n",
        "random = torch.rand(2, 3)\n",
        "print(random)\n",
        "\n",
        "\n",
        "random2 = torch.rand(2, 3)\n",
        "print(random2)"
      ],
      "metadata": {
        "colab": {
          "base_uri": "https://localhost:8080/"
        },
        "id": "o6nNDinAmtcn",
        "outputId": "e2cb2d63-f5ff-4d50-ed77-38a13e9123b0"
      },
      "execution_count": 30,
      "outputs": [
        {
          "output_type": "stream",
          "name": "stdout",
          "text": [
            "tensor([[0.1490, 0.4866, 0.9857],\n",
            "        [0.1684, 0.5839, 0.6936]])\n",
            "tensor([[0.5831, 0.1284, 0.5721],\n",
            "        [0.9248, 0.2693, 0.7825]])\n"
          ]
        }
      ]
    },
    {
      "cell_type": "code",
      "source": [
        "# yield same\n",
        "torch.manual_seed(11)\n",
        "random = torch.rand(2, 3)\n",
        "print(random)\n",
        "\n",
        "torch.manual_seed(11)\n",
        "random = torch.rand(2, 3)\n",
        "print(random)\n"
      ],
      "metadata": {
        "colab": {
          "base_uri": "https://localhost:8080/"
        },
        "id": "6O8C5ItLG0MF",
        "outputId": "9702ebc6-5431-4ed1-bd18-9584c44fcb19"
      },
      "execution_count": 31,
      "outputs": [
        {
          "output_type": "stream",
          "name": "stdout",
          "text": [
            "tensor([[0.1490, 0.4866, 0.9857],\n",
            "        [0.1684, 0.5839, 0.6936]])\n",
            "tensor([[0.1490, 0.4866, 0.9857],\n",
            "        [0.1684, 0.5839, 0.6936]])\n"
          ]
        }
      ]
    },
    {
      "cell_type": "code",
      "source": [
        "x = torch.empty(2, 2, 3)\n",
        "print(x.shape)\n",
        "print(x)\n",
        "\n",
        "\n",
        "#rand like easily creates a new tensor of the same shape as the tensor that we input in it\n",
        "#like here x\n",
        "\n",
        "rand_like_x = torch.rand_like(x)\n",
        "print(rand_like_x.shape)\n",
        "print(rand_like_x)"
      ],
      "metadata": {
        "colab": {
          "base_uri": "https://localhost:8080/"
        },
        "id": "aiinSKwimtk0",
        "outputId": "5e51e6b0-10a4-4f98-e109-4d5d3efb93a5"
      },
      "execution_count": 32,
      "outputs": [
        {
          "output_type": "stream",
          "name": "stdout",
          "text": [
            "torch.Size([2, 2, 3])\n",
            "tensor([[[-9.2017e+04,  3.0852e-41,  9.8566e-01],\n",
            "         [ 1.6840e-01,  5.8394e-01,  6.9360e-01]],\n",
            "\n",
            "        [[ 0.0000e+00,  0.0000e+00,  0.0000e+00],\n",
            "         [ 0.0000e+00,  0.0000e+00,  0.0000e+00]]])\n",
            "torch.Size([2, 2, 3])\n",
            "tensor([[[0.5831, 0.1284, 0.5721],\n",
            "         [0.9248, 0.2693, 0.7825]],\n",
            "\n",
            "        [[0.2719, 0.4632, 0.7671],\n",
            "         [0.5024, 0.1025, 0.7600]]])\n"
          ]
        }
      ]
    },
    {
      "cell_type": "markdown",
      "source": [
        "."
      ],
      "metadata": {
        "id": "V0yppTvyMDvQ"
      }
    },
    {
      "cell_type": "markdown",
      "source": [
        "Operations between tensor and scalar"
      ],
      "metadata": {
        "id": "xkT8vuaZMWvx"
      }
    },
    {
      "cell_type": "code",
      "source": [
        "twos = torch.ones(2, 2) * 2\n",
        "sqrt2s = twos ** 0.5\n",
        "half = twos / 2\n",
        "\n",
        "print(twos) #original tensor\n",
        "print(sqrt2s)\n",
        "print(half)"
      ],
      "metadata": {
        "colab": {
          "base_uri": "https://localhost:8080/"
        },
        "id": "1OuCKmL_rN1E",
        "outputId": "473ed811-0d58-439c-d0df-1fdd3b3ebc16"
      },
      "execution_count": 33,
      "outputs": [
        {
          "output_type": "stream",
          "name": "stdout",
          "text": [
            "tensor([[2., 2.],\n",
            "        [2., 2.]])\n",
            "tensor([[1.4142, 1.4142],\n",
            "        [1.4142, 1.4142]])\n",
            "tensor([[1., 1.],\n",
            "        [1., 1.]])\n"
          ]
        }
      ]
    },
    {
      "cell_type": "markdown",
      "source": [
        "Operations between two tensors "
      ],
      "metadata": {
        "id": "OhSbIV0uMSI6"
      }
    },
    {
      "cell_type": "code",
      "source": [
        "powers2 = twos ** torch.tensor([[1, 2], [3, 4]])\n",
        "print(powers2)\n",
        "\n",
        "mult2 = twos * torch.tensor([[1, 2], [3, 4]])\n",
        "print(mult2)"
      ],
      "metadata": {
        "colab": {
          "base_uri": "https://localhost:8080/"
        },
        "id": "afU51t1CrN4F",
        "outputId": "b2a225df-b5b0-40c6-9c85-48c026cde689"
      },
      "execution_count": 34,
      "outputs": [
        {
          "output_type": "stream",
          "name": "stdout",
          "text": [
            "tensor([[ 2.,  4.],\n",
            "        [ 8., 16.]])\n",
            "tensor([[2., 4.],\n",
            "        [6., 8.]])\n"
          ]
        }
      ]
    },
    {
      "cell_type": "markdown",
      "source": [
        "."
      ],
      "metadata": {
        "id": "iM5KwAGVLCta"
      }
    },
    {
      "cell_type": "markdown",
      "source": [
        "Broadcasting"
      ],
      "metadata": {
        "id": "ECD01ZpKvw2q"
      }
    },
    {
      "cell_type": "code",
      "source": [
        "#simple example of tensor broadcasting displaying 2 matrix mult\n",
        "\n",
        "once = torch.rand(2, 4)\n",
        "twice = once * (torch.ones(1, 4) * 2)\n",
        "\n",
        "print(once)\n",
        "print(twice)\n"
      ],
      "metadata": {
        "id": "61MdU8TyoN2b",
        "colab": {
          "base_uri": "https://localhost:8080/"
        },
        "outputId": "7be6b2ab-e052-44eb-b6e0-e7d483f9d647"
      },
      "execution_count": 35,
      "outputs": [
        {
          "output_type": "stream",
          "name": "stdout",
          "text": [
            "tensor([[0.8035, 0.7653, 0.8709, 0.7231],\n",
            "        [0.8364, 0.5820, 0.8395, 0.0595]])\n",
            "tensor([[1.6071, 1.5306, 1.7418, 1.4461],\n",
            "        [1.6729, 1.1640, 1.6789, 0.1190]])\n"
          ]
        }
      ]
    },
    {
      "cell_type": "markdown",
      "source": [
        "."
      ],
      "metadata": {
        "id": "uLJS-CbCLFRE"
      }
    },
    {
      "cell_type": "markdown",
      "source": [
        "Some extra math funcs to make work easy if ever required"
      ],
      "metadata": {
        "id": "aYwF1B7KLGfv"
      }
    },
    {
      "cell_type": "code",
      "source": [
        "# common functions\n",
        "a = torch.rand(2, 4) * 2 - 1\n",
        "print('Common functions:')\n",
        "print(torch.abs(a))\n",
        "print(torch.ceil(a))\n",
        "print(torch.floor(a))\n",
        "print(torch.clamp(a, -0.5, 0.5))\n",
        "\n",
        "# trigonometric functions and their inverses\n",
        "angles = torch.tensor([0, math.pi / 4, math.pi / 2, 3 * math.pi / 4])\n",
        "sines = torch.sin(angles)\n",
        "inverses = torch.asin(sines)\n",
        "print('\\nSine and arcsine:')\n",
        "\n",
        "print(angles)\n",
        "print(sines)\n",
        "print(inverses)\n",
        "\n",
        "\n",
        "\n"
      ],
      "metadata": {
        "id": "hxUylvLYoN8-",
        "colab": {
          "base_uri": "https://localhost:8080/"
        },
        "outputId": "856ec6b4-e1e2-4769-cd56-dec533b0fb5e"
      },
      "execution_count": 36,
      "outputs": [
        {
          "output_type": "stream",
          "name": "stdout",
          "text": [
            "Common functions:\n",
            "tensor([[0.1370, 0.1151, 0.4757, 0.2601],\n",
            "        [0.7550, 0.6748, 0.5124, 0.3237]])\n",
            "tensor([[-0., -0., -0., 1.],\n",
            "        [1., -0., -0., -0.]])\n",
            "tensor([[-1., -1., -1.,  0.],\n",
            "        [ 0., -1., -1., -1.]])\n",
            "tensor([[-0.1370, -0.1151, -0.4757,  0.2601],\n",
            "        [ 0.5000, -0.5000, -0.5000, -0.3237]])\n",
            "\n",
            "Sine and arcsine:\n",
            "tensor([0.0000, 0.7854, 1.5708, 2.3562])\n",
            "tensor([0.0000, 0.7071, 1.0000, 0.7071])\n",
            "tensor([0.0000, 0.7854, 1.5708, 0.7854])\n"
          ]
        }
      ]
    },
    {
      "cell_type": "code",
      "source": [
        "# bitwise operations\n",
        "print('\\nBitwise XOR:')\n",
        "b = torch.tensor([1, 5, 11])\n",
        "c = torch.tensor([2, 7, 10])\n",
        "print(torch.bitwise_xor(b, c))\n",
        "\n",
        "# comparisons:\n",
        "print('\\nBroadcasted, element-wise equality comparison:')\n",
        "d = torch.tensor([[1., 2.], [3., 4.]])\n",
        "e = torch.ones(1, 2)  # many comparison ops support broadcasting!\n",
        "print(torch.eq(d, e)) # returns a tensor of type bool\n",
        "\n",
        "# reductions:\n",
        "print('\\nReduction ops:')\n",
        "print(torch.max(d))        # returns a single-element tensor\n",
        "print(torch.max(d).item()) # extracts the value from the returned tensor\n",
        "print(torch.mean(d))       # average\n",
        "print(torch.std(d))        # standard deviation\n",
        "print(torch.prod(d))       # product of all numbers\n",
        "print(torch.unique(torch.tensor([1, 2, 1, 2, 1, 2]))) # filter unique elements\n",
        "\n"
      ],
      "metadata": {
        "colab": {
          "base_uri": "https://localhost:8080/"
        },
        "id": "fXyQMbC-Nvu8",
        "outputId": "7c54ff22-3f04-4dce-fbe4-57d3101dbba7"
      },
      "execution_count": 37,
      "outputs": [
        {
          "output_type": "stream",
          "name": "stdout",
          "text": [
            "\n",
            "Bitwise XOR:\n",
            "tensor([3, 2, 1])\n",
            "\n",
            "Broadcasted, element-wise equality comparison:\n",
            "tensor([[ True, False],\n",
            "        [False, False]])\n",
            "\n",
            "Reduction ops:\n",
            "tensor(4.)\n",
            "4.0\n",
            "tensor(2.5000)\n",
            "tensor(1.2910)\n",
            "tensor(24.)\n",
            "tensor([1, 2])\n"
          ]
        }
      ]
    },
    {
      "cell_type": "code",
      "source": [
        "# vector and linear algebra operations\n",
        "v1 = torch.tensor([1., 0., 0.])         # x unit vector\n",
        "v2 = torch.tensor([0., 1., 0.])         # y unit vector\n",
        "m1 = torch.rand(2, 2)                   # random matrix\n",
        "m2 = torch.tensor([[3., 0.], [0., 3.]]) # three times identity matrix\n",
        "\n",
        "print('\\nVectors & Matrices:')\n",
        "print(torch.cross(v2, v1)) # negative of z unit vector (v1 x v2 == -v2 x v1)\n",
        "print(m1)\n",
        "m3 = torch.matmul(m1, m2)\n",
        "print(m3)                  # 3 times m1\n",
        "print(torch.svd(m3))       # singular value decomposition"
      ],
      "metadata": {
        "colab": {
          "base_uri": "https://localhost:8080/"
        },
        "id": "-EakukrBN7Af",
        "outputId": "89a42d59-6cf5-4bc4-b78e-33d8e1a5414e"
      },
      "execution_count": 38,
      "outputs": [
        {
          "output_type": "stream",
          "name": "stdout",
          "text": [
            "\n",
            "Vectors & Matrices:\n",
            "tensor([ 0.,  0., -1.])\n",
            "tensor([[0.8847, 0.0763],\n",
            "        [0.9900, 0.1944]])\n",
            "tensor([[2.6542, 0.2288],\n",
            "        [2.9701, 0.5833]])\n",
            "torch.return_types.svd(\n",
            "U=tensor([[-0.6604, -0.7509],\n",
            "        [-0.7509,  0.6604]]),\n",
            "S=tensor([4.0264, 0.2157]),\n",
            "V=tensor([[-0.9892, -0.1463],\n",
            "        [-0.1463,  0.9892]]))\n"
          ]
        }
      ]
    },
    {
      "cell_type": "code",
      "source": [
        ""
      ],
      "metadata": {
        "id": "fVG7w97DN7El"
      },
      "execution_count": 38,
      "outputs": []
    }
  ]
}